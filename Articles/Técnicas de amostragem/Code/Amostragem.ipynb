{
 "cells": [
  {
   "cell_type": "code",
   "execution_count": 26,
   "metadata": {},
   "outputs": [],
   "source": [
    "# Importando as bibliotecas\n",
    "import pandas as pd\n",
    "import numpy as np\n",
    "from math import ceil\n",
    "from sklearn.model_selection import train_test_split"
   ]
  },
  {
   "cell_type": "markdown",
   "metadata": {},
   "source": [
    "# Visualização do dados"
   ]
  },
  {
   "cell_type": "code",
   "execution_count": 27,
   "metadata": {},
   "outputs": [
    {
     "data": {
      "text/html": [
       "<div>\n",
       "<style scoped>\n",
       "    .dataframe tbody tr th:only-of-type {\n",
       "        vertical-align: middle;\n",
       "    }\n",
       "\n",
       "    .dataframe tbody tr th {\n",
       "        vertical-align: top;\n",
       "    }\n",
       "\n",
       "    .dataframe thead th {\n",
       "        text-align: right;\n",
       "    }\n",
       "</style>\n",
       "<table border=\"1\" class=\"dataframe\">\n",
       "  <thead>\n",
       "    <tr style=\"text-align: right;\">\n",
       "      <th></th>\n",
       "      <th>Name</th>\n",
       "      <th>Age</th>\n",
       "      <th>Weight</th>\n",
       "      <th>State</th>\n",
       "    </tr>\n",
       "  </thead>\n",
       "  <tbody>\n",
       "    <tr>\n",
       "      <th>0</th>\n",
       "      <td>Angelica Stout</td>\n",
       "      <td>79</td>\n",
       "      <td>53.84</td>\n",
       "      <td>New York</td>\n",
       "    </tr>\n",
       "    <tr>\n",
       "      <th>1</th>\n",
       "      <td>John Guzman</td>\n",
       "      <td>36</td>\n",
       "      <td>59.56</td>\n",
       "      <td>California</td>\n",
       "    </tr>\n",
       "    <tr>\n",
       "      <th>2</th>\n",
       "      <td>Jacob Fisher</td>\n",
       "      <td>69</td>\n",
       "      <td>105.62</td>\n",
       "      <td>New York</td>\n",
       "    </tr>\n",
       "    <tr>\n",
       "      <th>3</th>\n",
       "      <td>Emily Nguyen</td>\n",
       "      <td>65</td>\n",
       "      <td>72.62</td>\n",
       "      <td>New York</td>\n",
       "    </tr>\n",
       "    <tr>\n",
       "      <th>4</th>\n",
       "      <td>Mary Fitzpatrick MD</td>\n",
       "      <td>67</td>\n",
       "      <td>65.98</td>\n",
       "      <td>Texas</td>\n",
       "    </tr>\n",
       "  </tbody>\n",
       "</table>\n",
       "</div>"
      ],
      "text/plain": [
       "                  Name  Age  Weight       State\n",
       "0       Angelica Stout   79   53.84    New York\n",
       "1          John Guzman   36   59.56  California\n",
       "2         Jacob Fisher   69  105.62    New York\n",
       "3         Emily Nguyen   65   72.62    New York\n",
       "4  Mary Fitzpatrick MD   67   65.98       Texas"
      ]
     },
     "execution_count": 27,
     "metadata": {},
     "output_type": "execute_result"
    }
   ],
   "source": [
    "dados = pd.read_csv('../Data/population.csv')\n",
    "dados.head()"
   ]
  },
  {
   "cell_type": "code",
   "execution_count": 28,
   "metadata": {},
   "outputs": [
    {
     "data": {
      "text/plain": [
       "State\n",
       "New York      50\n",
       "California    50\n",
       "Texas         50\n",
       "Name: count, dtype: int64"
      ]
     },
     "execution_count": 28,
     "metadata": {},
     "output_type": "execute_result"
    }
   ],
   "source": [
    "dados['State'].value_counts()"
   ]
  },
  {
   "cell_type": "markdown",
   "metadata": {},
   "source": [
    "# Amostragem Simples"
   ]
  },
  {
   "cell_type": "code",
   "execution_count": 29,
   "metadata": {},
   "outputs": [
    {
     "data": {
      "text/plain": [
       "array([0, 1, 1, 1, 0, 0, 0, 1, 1, 1, 0, 1, 1, 0, 0, 0, 0, 1, 0, 0, 1, 0,\n",
       "       0, 0, 0, 1, 0, 1, 1, 0, 1, 0, 0, 1, 1, 1, 0, 0, 1, 0, 0, 0, 0, 1,\n",
       "       0, 1, 0, 1, 1, 0, 1, 1, 1, 1, 1, 1, 0, 0, 0, 0, 0, 0, 1, 0, 0, 1,\n",
       "       0, 1, 0, 1, 1, 0, 0, 1, 1, 1, 1, 0, 0, 0, 1, 1, 0, 0, 0, 0, 1, 1,\n",
       "       1, 0, 0, 1, 1, 1, 1, 0, 1, 0, 0, 0, 0, 1, 0, 1, 1, 0, 0, 1, 0, 0,\n",
       "       0, 0, 1, 1, 1, 1, 1, 0, 1, 1, 1, 1, 0, 0, 0, 0, 1, 1, 0, 1, 0, 0,\n",
       "       0, 0, 1, 0, 1, 1, 0, 1, 1, 0, 0, 0, 0, 0, 1, 1, 0, 0])"
      ]
     },
     "execution_count": 29,
     "metadata": {},
     "output_type": "execute_result"
    }
   ],
   "source": [
    "# Criando uma amostra aleatória simples com reposição\n",
    "np.random.seed(42)\n",
    "amostra = np.random.choice(a = [0, 1], size = 150, replace = True,\n",
    "                           p = [0.5, 0.5])\n",
    "amostra"
   ]
  },
  {
   "cell_type": "code",
   "execution_count": 30,
   "metadata": {},
   "outputs": [
    {
     "data": {
      "text/plain": [
       "(70, 4)"
      ]
     },
     "execution_count": 30,
     "metadata": {},
     "output_type": "execute_result"
    }
   ],
   "source": [
    "# Seleção da base de dados dos valores correspondentes a amostra igual a 1\n",
    "dados_selecionados = dados.loc[amostra == 1]\n",
    "dados_selecionados.shape"
   ]
  },
  {
   "cell_type": "markdown",
   "metadata": {},
   "source": [
    "# Amostragem estratificada"
   ]
  },
  {
   "cell_type": "code",
   "execution_count": 31,
   "metadata": {},
   "outputs": [
    {
     "data": {
      "text/plain": [
       "State\n",
       "Texas         25\n",
       "New York      25\n",
       "California    25\n",
       "Name: count, dtype: int64"
      ]
     },
     "execution_count": 31,
     "metadata": {},
     "output_type": "execute_result"
    }
   ],
   "source": [
    "# Separando a base de dados em estratos a partir da variável 'State'\n",
    "amostraX, _, amostraY, _ = train_test_split(dados.iloc[:, 0:3], dados.iloc[:, 3],\n",
    "                              test_size = 0.5, stratify = dados.iloc[:,3])\n",
    "amostraY.value_counts()\n"
   ]
  },
  {
   "cell_type": "code",
   "execution_count": 32,
   "metadata": {},
   "outputs": [
    {
     "data": {
      "text/html": [
       "<div>\n",
       "<style scoped>\n",
       "    .dataframe tbody tr th:only-of-type {\n",
       "        vertical-align: middle;\n",
       "    }\n",
       "\n",
       "    .dataframe tbody tr th {\n",
       "        vertical-align: top;\n",
       "    }\n",
       "\n",
       "    .dataframe thead th {\n",
       "        text-align: right;\n",
       "    }\n",
       "</style>\n",
       "<table border=\"1\" class=\"dataframe\">\n",
       "  <thead>\n",
       "    <tr style=\"text-align: right;\">\n",
       "      <th></th>\n",
       "      <th>Name</th>\n",
       "      <th>Age</th>\n",
       "      <th>Weight</th>\n",
       "      <th>State</th>\n",
       "    </tr>\n",
       "  </thead>\n",
       "  <tbody>\n",
       "    <tr>\n",
       "      <th>6</th>\n",
       "      <td>Maria Rodriguez</td>\n",
       "      <td>21</td>\n",
       "      <td>85.53</td>\n",
       "      <td>Texas</td>\n",
       "    </tr>\n",
       "    <tr>\n",
       "      <th>89</th>\n",
       "      <td>Tabitha Leblanc</td>\n",
       "      <td>21</td>\n",
       "      <td>75.01</td>\n",
       "      <td>New York</td>\n",
       "    </tr>\n",
       "    <tr>\n",
       "      <th>71</th>\n",
       "      <td>Bradley Carey</td>\n",
       "      <td>69</td>\n",
       "      <td>74.02</td>\n",
       "      <td>Texas</td>\n",
       "    </tr>\n",
       "    <tr>\n",
       "      <th>24</th>\n",
       "      <td>James Horn</td>\n",
       "      <td>43</td>\n",
       "      <td>74.89</td>\n",
       "      <td>Texas</td>\n",
       "    </tr>\n",
       "    <tr>\n",
       "      <th>62</th>\n",
       "      <td>Steven Torres</td>\n",
       "      <td>72</td>\n",
       "      <td>74.16</td>\n",
       "      <td>New York</td>\n",
       "    </tr>\n",
       "  </tbody>\n",
       "</table>\n",
       "</div>"
      ],
      "text/plain": [
       "               Name  Age  Weight     State\n",
       "6   Maria Rodriguez   21   85.53     Texas\n",
       "89  Tabitha Leblanc   21   75.01  New York\n",
       "71    Bradley Carey   69   74.02     Texas\n",
       "24       James Horn   43   74.89     Texas\n",
       "62    Steven Torres   72   74.16  New York"
      ]
     },
     "execution_count": 32,
     "metadata": {},
     "output_type": "execute_result"
    }
   ],
   "source": [
    "# Reunindo as colunas de amostraX e amostraY em um dataframe\n",
    "# Axis = 1 indica que a concatenação será feita pelas colunas\n",
    "amostra_completa = pd.concat([amostraX, amostraY], axis=1)\n",
    "amostra_completa.head()"
   ]
  },
  {
   "cell_type": "markdown",
   "metadata": {},
   "source": [
    "# Amostragem Sistemática"
   ]
  },
  {
   "cell_type": "code",
   "execution_count": 33,
   "metadata": {},
   "outputs": [
    {
     "data": {
      "text/plain": [
       "3"
      ]
     },
     "execution_count": 33,
     "metadata": {},
     "output_type": "execute_result"
    }
   ],
   "source": [
    "# Criação do valor k, k é o valor usado para incrementar o valor de i.\n",
    "# n é o tamanho da amostra que queremos coletar.\n",
    "n = 50\n",
    "k = ceil( len(dados) / n)\n",
    "k"
   ]
  },
  {
   "cell_type": "code",
   "execution_count": 34,
   "metadata": {},
   "outputs": [
    {
     "data": {
      "text/plain": [
       "array([2])"
      ]
     },
     "execution_count": 34,
     "metadata": {},
     "output_type": "execute_result"
    }
   ],
   "source": [
    "# Criação do valor do intervalo de seleção.\n",
    "# O valor i é o tamanho do passo, ou seja, a cada i elementos, um é selecionado.\n",
    "i = np.random.randint(low = 1, high = k + 1, size = 1)\n",
    "i"
   ]
  },
  {
   "cell_type": "code",
   "execution_count": 35,
   "metadata": {},
   "outputs": [
    {
     "name": "stdout",
     "output_type": "stream",
     "text": [
      "[2, 5, 8, 11, 14, 17, 20, 23, 26, 29, 32, 35, 38, 41, 44, 47, 50, 53, 56, 59, 62, 65, 68, 71, 74, 77, 80, 83, 86, 89, 92, 95, 98, 101, 104, 107, 110, 113, 116, 119, 122, 125, 128, 131, 134, 137, 140, 143, 146, 149]\n"
     ]
    }
   ],
   "source": [
    "# Criação da lista com o index dos selecionados\n",
    "passo = i[0]\n",
    "selecionados = []\n",
    "for j in range(n):\n",
    "    selecionados.append(passo)\n",
    "    passo += k\n",
    "print(selecionados)"
   ]
  },
  {
   "cell_type": "code",
   "execution_count": 36,
   "metadata": {},
   "outputs": [
    {
     "data": {
      "text/plain": [
       "50"
      ]
     },
     "execution_count": 36,
     "metadata": {},
     "output_type": "execute_result"
    }
   ],
   "source": [
    "# Número da amostra\n",
    "len(selecionados)"
   ]
  },
  {
   "cell_type": "code",
   "execution_count": 37,
   "metadata": {},
   "outputs": [
    {
     "data": {
      "text/html": [
       "<div>\n",
       "<style scoped>\n",
       "    .dataframe tbody tr th:only-of-type {\n",
       "        vertical-align: middle;\n",
       "    }\n",
       "\n",
       "    .dataframe tbody tr th {\n",
       "        vertical-align: top;\n",
       "    }\n",
       "\n",
       "    .dataframe thead th {\n",
       "        text-align: right;\n",
       "    }\n",
       "</style>\n",
       "<table border=\"1\" class=\"dataframe\">\n",
       "  <thead>\n",
       "    <tr style=\"text-align: right;\">\n",
       "      <th></th>\n",
       "      <th>Name</th>\n",
       "      <th>Age</th>\n",
       "      <th>Weight</th>\n",
       "      <th>State</th>\n",
       "    </tr>\n",
       "  </thead>\n",
       "  <tbody>\n",
       "    <tr>\n",
       "      <th>2</th>\n",
       "      <td>Jacob Fisher</td>\n",
       "      <td>69</td>\n",
       "      <td>105.62</td>\n",
       "      <td>New York</td>\n",
       "    </tr>\n",
       "    <tr>\n",
       "      <th>5</th>\n",
       "      <td>Ashley Cooper</td>\n",
       "      <td>80</td>\n",
       "      <td>56.85</td>\n",
       "      <td>New York</td>\n",
       "    </tr>\n",
       "    <tr>\n",
       "      <th>8</th>\n",
       "      <td>Ruben Alvarez</td>\n",
       "      <td>66</td>\n",
       "      <td>116.09</td>\n",
       "      <td>New York</td>\n",
       "    </tr>\n",
       "    <tr>\n",
       "      <th>11</th>\n",
       "      <td>Christy Kline</td>\n",
       "      <td>72</td>\n",
       "      <td>66.56</td>\n",
       "      <td>New York</td>\n",
       "    </tr>\n",
       "    <tr>\n",
       "      <th>14</th>\n",
       "      <td>Joseph Hickman</td>\n",
       "      <td>80</td>\n",
       "      <td>74.47</td>\n",
       "      <td>California</td>\n",
       "    </tr>\n",
       "    <tr>\n",
       "      <th>17</th>\n",
       "      <td>Benjamin Allen</td>\n",
       "      <td>26</td>\n",
       "      <td>73.08</td>\n",
       "      <td>Texas</td>\n",
       "    </tr>\n",
       "    <tr>\n",
       "      <th>20</th>\n",
       "      <td>Ashley Smith</td>\n",
       "      <td>34</td>\n",
       "      <td>87.38</td>\n",
       "      <td>California</td>\n",
       "    </tr>\n",
       "    <tr>\n",
       "      <th>23</th>\n",
       "      <td>Angela Dyer</td>\n",
       "      <td>29</td>\n",
       "      <td>73.93</td>\n",
       "      <td>New York</td>\n",
       "    </tr>\n",
       "    <tr>\n",
       "      <th>26</th>\n",
       "      <td>Stephanie Mayer</td>\n",
       "      <td>31</td>\n",
       "      <td>115.33</td>\n",
       "      <td>Texas</td>\n",
       "    </tr>\n",
       "    <tr>\n",
       "      <th>29</th>\n",
       "      <td>Cody Rocha</td>\n",
       "      <td>75</td>\n",
       "      <td>68.96</td>\n",
       "      <td>California</td>\n",
       "    </tr>\n",
       "    <tr>\n",
       "      <th>32</th>\n",
       "      <td>Natalie David</td>\n",
       "      <td>41</td>\n",
       "      <td>60.95</td>\n",
       "      <td>Texas</td>\n",
       "    </tr>\n",
       "    <tr>\n",
       "      <th>35</th>\n",
       "      <td>Kevin Kerr</td>\n",
       "      <td>38</td>\n",
       "      <td>79.14</td>\n",
       "      <td>Texas</td>\n",
       "    </tr>\n",
       "    <tr>\n",
       "      <th>38</th>\n",
       "      <td>David Decker</td>\n",
       "      <td>70</td>\n",
       "      <td>112.72</td>\n",
       "      <td>New York</td>\n",
       "    </tr>\n",
       "    <tr>\n",
       "      <th>41</th>\n",
       "      <td>Lynn Miller</td>\n",
       "      <td>18</td>\n",
       "      <td>80.63</td>\n",
       "      <td>New York</td>\n",
       "    </tr>\n",
       "    <tr>\n",
       "      <th>44</th>\n",
       "      <td>William Hernandez</td>\n",
       "      <td>52</td>\n",
       "      <td>65.92</td>\n",
       "      <td>Texas</td>\n",
       "    </tr>\n",
       "    <tr>\n",
       "      <th>47</th>\n",
       "      <td>John Ritter</td>\n",
       "      <td>42</td>\n",
       "      <td>90.19</td>\n",
       "      <td>Texas</td>\n",
       "    </tr>\n",
       "    <tr>\n",
       "      <th>50</th>\n",
       "      <td>Matthew Garcia</td>\n",
       "      <td>31</td>\n",
       "      <td>109.63</td>\n",
       "      <td>California</td>\n",
       "    </tr>\n",
       "    <tr>\n",
       "      <th>53</th>\n",
       "      <td>Maria Davis</td>\n",
       "      <td>38</td>\n",
       "      <td>86.38</td>\n",
       "      <td>California</td>\n",
       "    </tr>\n",
       "    <tr>\n",
       "      <th>56</th>\n",
       "      <td>Caitlyn Figueroa</td>\n",
       "      <td>69</td>\n",
       "      <td>62.91</td>\n",
       "      <td>New York</td>\n",
       "    </tr>\n",
       "    <tr>\n",
       "      <th>59</th>\n",
       "      <td>Susan Huang</td>\n",
       "      <td>60</td>\n",
       "      <td>112.80</td>\n",
       "      <td>California</td>\n",
       "    </tr>\n",
       "    <tr>\n",
       "      <th>62</th>\n",
       "      <td>Steven Torres</td>\n",
       "      <td>72</td>\n",
       "      <td>74.16</td>\n",
       "      <td>New York</td>\n",
       "    </tr>\n",
       "    <tr>\n",
       "      <th>65</th>\n",
       "      <td>Jacob Wu</td>\n",
       "      <td>44</td>\n",
       "      <td>86.93</td>\n",
       "      <td>California</td>\n",
       "    </tr>\n",
       "    <tr>\n",
       "      <th>68</th>\n",
       "      <td>Allison Martin</td>\n",
       "      <td>57</td>\n",
       "      <td>79.30</td>\n",
       "      <td>New York</td>\n",
       "    </tr>\n",
       "    <tr>\n",
       "      <th>71</th>\n",
       "      <td>Bradley Carey</td>\n",
       "      <td>69</td>\n",
       "      <td>74.02</td>\n",
       "      <td>Texas</td>\n",
       "    </tr>\n",
       "    <tr>\n",
       "      <th>74</th>\n",
       "      <td>Derrick Jones</td>\n",
       "      <td>53</td>\n",
       "      <td>59.26</td>\n",
       "      <td>Texas</td>\n",
       "    </tr>\n",
       "    <tr>\n",
       "      <th>77</th>\n",
       "      <td>Beth Medina</td>\n",
       "      <td>80</td>\n",
       "      <td>118.82</td>\n",
       "      <td>California</td>\n",
       "    </tr>\n",
       "    <tr>\n",
       "      <th>80</th>\n",
       "      <td>Ronald Hamilton</td>\n",
       "      <td>27</td>\n",
       "      <td>55.79</td>\n",
       "      <td>California</td>\n",
       "    </tr>\n",
       "    <tr>\n",
       "      <th>83</th>\n",
       "      <td>Michael Campos</td>\n",
       "      <td>75</td>\n",
       "      <td>110.03</td>\n",
       "      <td>California</td>\n",
       "    </tr>\n",
       "    <tr>\n",
       "      <th>86</th>\n",
       "      <td>Ryan Weeks</td>\n",
       "      <td>30</td>\n",
       "      <td>119.23</td>\n",
       "      <td>California</td>\n",
       "    </tr>\n",
       "    <tr>\n",
       "      <th>89</th>\n",
       "      <td>Tabitha Leblanc</td>\n",
       "      <td>21</td>\n",
       "      <td>75.01</td>\n",
       "      <td>New York</td>\n",
       "    </tr>\n",
       "    <tr>\n",
       "      <th>92</th>\n",
       "      <td>Sally Lawrence</td>\n",
       "      <td>37</td>\n",
       "      <td>68.91</td>\n",
       "      <td>New York</td>\n",
       "    </tr>\n",
       "    <tr>\n",
       "      <th>95</th>\n",
       "      <td>Jonathan Burnett</td>\n",
       "      <td>56</td>\n",
       "      <td>57.06</td>\n",
       "      <td>Texas</td>\n",
       "    </tr>\n",
       "    <tr>\n",
       "      <th>98</th>\n",
       "      <td>Thomas Berg</td>\n",
       "      <td>46</td>\n",
       "      <td>75.32</td>\n",
       "      <td>New York</td>\n",
       "    </tr>\n",
       "    <tr>\n",
       "      <th>101</th>\n",
       "      <td>Matthew Smith</td>\n",
       "      <td>30</td>\n",
       "      <td>52.05</td>\n",
       "      <td>Texas</td>\n",
       "    </tr>\n",
       "    <tr>\n",
       "      <th>104</th>\n",
       "      <td>Kathy Acosta</td>\n",
       "      <td>79</td>\n",
       "      <td>69.33</td>\n",
       "      <td>Texas</td>\n",
       "    </tr>\n",
       "    <tr>\n",
       "      <th>107</th>\n",
       "      <td>Kristin Ramsey</td>\n",
       "      <td>58</td>\n",
       "      <td>117.93</td>\n",
       "      <td>New York</td>\n",
       "    </tr>\n",
       "    <tr>\n",
       "      <th>110</th>\n",
       "      <td>Alicia Smith</td>\n",
       "      <td>51</td>\n",
       "      <td>66.21</td>\n",
       "      <td>New York</td>\n",
       "    </tr>\n",
       "    <tr>\n",
       "      <th>113</th>\n",
       "      <td>Christine Clark</td>\n",
       "      <td>22</td>\n",
       "      <td>88.61</td>\n",
       "      <td>Texas</td>\n",
       "    </tr>\n",
       "    <tr>\n",
       "      <th>116</th>\n",
       "      <td>Matthew Jackson</td>\n",
       "      <td>36</td>\n",
       "      <td>68.51</td>\n",
       "      <td>California</td>\n",
       "    </tr>\n",
       "    <tr>\n",
       "      <th>119</th>\n",
       "      <td>Mark Gonzalez</td>\n",
       "      <td>79</td>\n",
       "      <td>105.42</td>\n",
       "      <td>Texas</td>\n",
       "    </tr>\n",
       "    <tr>\n",
       "      <th>122</th>\n",
       "      <td>Margaret Fitzpatrick</td>\n",
       "      <td>47</td>\n",
       "      <td>109.52</td>\n",
       "      <td>Texas</td>\n",
       "    </tr>\n",
       "    <tr>\n",
       "      <th>125</th>\n",
       "      <td>Mark Rhodes</td>\n",
       "      <td>22</td>\n",
       "      <td>105.47</td>\n",
       "      <td>Texas</td>\n",
       "    </tr>\n",
       "    <tr>\n",
       "      <th>128</th>\n",
       "      <td>Amanda Levine</td>\n",
       "      <td>66</td>\n",
       "      <td>74.38</td>\n",
       "      <td>California</td>\n",
       "    </tr>\n",
       "    <tr>\n",
       "      <th>131</th>\n",
       "      <td>Anthony Wright</td>\n",
       "      <td>20</td>\n",
       "      <td>95.93</td>\n",
       "      <td>California</td>\n",
       "    </tr>\n",
       "    <tr>\n",
       "      <th>134</th>\n",
       "      <td>Joseph Higgins</td>\n",
       "      <td>42</td>\n",
       "      <td>78.29</td>\n",
       "      <td>California</td>\n",
       "    </tr>\n",
       "    <tr>\n",
       "      <th>137</th>\n",
       "      <td>Christina Vance</td>\n",
       "      <td>46</td>\n",
       "      <td>82.41</td>\n",
       "      <td>California</td>\n",
       "    </tr>\n",
       "    <tr>\n",
       "      <th>140</th>\n",
       "      <td>Derrick Logan</td>\n",
       "      <td>28</td>\n",
       "      <td>76.61</td>\n",
       "      <td>Texas</td>\n",
       "    </tr>\n",
       "    <tr>\n",
       "      <th>143</th>\n",
       "      <td>Sonya Collins</td>\n",
       "      <td>56</td>\n",
       "      <td>94.31</td>\n",
       "      <td>Texas</td>\n",
       "    </tr>\n",
       "    <tr>\n",
       "      <th>146</th>\n",
       "      <td>Gregory Moore</td>\n",
       "      <td>51</td>\n",
       "      <td>67.52</td>\n",
       "      <td>New York</td>\n",
       "    </tr>\n",
       "    <tr>\n",
       "      <th>149</th>\n",
       "      <td>Zachary Edwards</td>\n",
       "      <td>64</td>\n",
       "      <td>111.21</td>\n",
       "      <td>California</td>\n",
       "    </tr>\n",
       "  </tbody>\n",
       "</table>\n",
       "</div>"
      ],
      "text/plain": [
       "                     Name  Age  Weight       State\n",
       "2            Jacob Fisher   69  105.62    New York\n",
       "5           Ashley Cooper   80   56.85    New York\n",
       "8           Ruben Alvarez   66  116.09    New York\n",
       "11          Christy Kline   72   66.56    New York\n",
       "14         Joseph Hickman   80   74.47  California\n",
       "17         Benjamin Allen   26   73.08       Texas\n",
       "20           Ashley Smith   34   87.38  California\n",
       "23            Angela Dyer   29   73.93    New York\n",
       "26        Stephanie Mayer   31  115.33       Texas\n",
       "29             Cody Rocha   75   68.96  California\n",
       "32          Natalie David   41   60.95       Texas\n",
       "35             Kevin Kerr   38   79.14       Texas\n",
       "38           David Decker   70  112.72    New York\n",
       "41            Lynn Miller   18   80.63    New York\n",
       "44      William Hernandez   52   65.92       Texas\n",
       "47            John Ritter   42   90.19       Texas\n",
       "50         Matthew Garcia   31  109.63  California\n",
       "53            Maria Davis   38   86.38  California\n",
       "56       Caitlyn Figueroa   69   62.91    New York\n",
       "59            Susan Huang   60  112.80  California\n",
       "62          Steven Torres   72   74.16    New York\n",
       "65               Jacob Wu   44   86.93  California\n",
       "68         Allison Martin   57   79.30    New York\n",
       "71          Bradley Carey   69   74.02       Texas\n",
       "74          Derrick Jones   53   59.26       Texas\n",
       "77            Beth Medina   80  118.82  California\n",
       "80        Ronald Hamilton   27   55.79  California\n",
       "83         Michael Campos   75  110.03  California\n",
       "86             Ryan Weeks   30  119.23  California\n",
       "89        Tabitha Leblanc   21   75.01    New York\n",
       "92         Sally Lawrence   37   68.91    New York\n",
       "95       Jonathan Burnett   56   57.06       Texas\n",
       "98            Thomas Berg   46   75.32    New York\n",
       "101         Matthew Smith   30   52.05       Texas\n",
       "104          Kathy Acosta   79   69.33       Texas\n",
       "107        Kristin Ramsey   58  117.93    New York\n",
       "110          Alicia Smith   51   66.21    New York\n",
       "113       Christine Clark   22   88.61       Texas\n",
       "116       Matthew Jackson   36   68.51  California\n",
       "119         Mark Gonzalez   79  105.42       Texas\n",
       "122  Margaret Fitzpatrick   47  109.52       Texas\n",
       "125           Mark Rhodes   22  105.47       Texas\n",
       "128         Amanda Levine   66   74.38  California\n",
       "131        Anthony Wright   20   95.93  California\n",
       "134        Joseph Higgins   42   78.29  California\n",
       "137       Christina Vance   46   82.41  California\n",
       "140         Derrick Logan   28   76.61       Texas\n",
       "143         Sonya Collins   56   94.31       Texas\n",
       "146         Gregory Moore   51   67.52    New York\n",
       "149       Zachary Edwards   64  111.21  California"
      ]
     },
     "execution_count": 37,
     "metadata": {},
     "output_type": "execute_result"
    }
   ],
   "source": [
    "# Amostra\n",
    "dados_selecionados = dados.loc[selecionados]\n",
    "dados_selecionados"
   ]
  },
  {
   "cell_type": "markdown",
   "metadata": {},
   "source": [
    "# Amostragem por conglomerado"
   ]
  },
  {
   "cell_type": "code",
   "execution_count": 38,
   "metadata": {},
   "outputs": [],
   "source": [
    "# Dividir os dados em 3 partes\n",
    "conglomerado1 = dados.iloc[0:49,:]\n",
    "conglomerado2 = dados.iloc[50:99,:]\n",
    "conglomerado3 = dados.iloc[100:149,:]"
   ]
  },
  {
   "cell_type": "code",
   "execution_count": 39,
   "metadata": {},
   "outputs": [
    {
     "data": {
      "text/plain": [
       "array(['conglomerado1'], dtype='<U13')"
      ]
     },
     "execution_count": 39,
     "metadata": {},
     "output_type": "execute_result"
    }
   ],
   "source": [
    "# Sorteando um conglomerado\n",
    "sorteado = np.random.choice(['conglomerado1', 'conglomerado2', 'conglomerado3'], 1, replace=False)\n",
    "sorteado"
   ]
  },
  {
   "cell_type": "markdown",
   "metadata": {},
   "source": [
    "# Amostragem por cotas"
   ]
  },
  {
   "cell_type": "code",
   "execution_count": 40,
   "metadata": {},
   "outputs": [],
   "source": [
    "# Separar os dados por estratos(Estados)\n",
    "estado1 = dados[dados['State'] == 'New York']\n",
    "estado2 = dados[dados['State'] == 'California']\n",
    "estado3 = dados[dados['State'] == 'Texas']"
   ]
  },
  {
   "cell_type": "code",
   "execution_count": 41,
   "metadata": {},
   "outputs": [
    {
     "data": {
      "text/plain": [
       "(25, 4)"
      ]
     },
     "execution_count": 41,
     "metadata": {},
     "output_type": "execute_result"
    }
   ],
   "source": [
    "# A cota usada será a cota de idade.\n",
    "estado1_cota = estado1[estado1['Age'] <= 60]\n",
    "\n",
    "# Sortear 15 valores da cota para o estado 1.\n",
    "estado1_cota = estado1_cota.sample(n=15, random_state=1)\n",
    "\n",
    "# Separar os valores do estado 1 que não estão na cota\n",
    "# ~ inverte o resultado da função isin(), retornando a lista de valores que não estão na cota\n",
    "estado1_sem_cota = estado1[~estado1['Age'].isin(estado1_cota['Age'])]\n",
    "\n",
    "# Sortear 10 valores do estado 1 que não estão na cota\n",
    "estado1_sem_cota = estado1_sem_cota.sample(n=10, random_state=1)\n",
    "\n",
    "# Concatenar os dois dataframes\n",
    "estado1_amostra = pd.concat([estado1_cota, estado1_sem_cota])\n",
    "\n",
    "# Amostra\n",
    "estado1_amostra.shape"
   ]
  },
  {
   "cell_type": "code",
   "execution_count": 42,
   "metadata": {},
   "outputs": [
    {
     "data": {
      "text/plain": [
       "(25, 4)"
      ]
     },
     "execution_count": 42,
     "metadata": {},
     "output_type": "execute_result"
    }
   ],
   "source": [
    "# Estado 2\n",
    "estado2_cota = estado2[estado2['Age'] <= 60]\n",
    "estado2_cota = estado2_cota.sample(n=15, random_state=1)\n",
    "estado2_sem_cota = estado2[~estado2['Age'].isin(estado2_cota['Age'])]\n",
    "estado2_sem_cota = estado2_sem_cota.sample(n=10, random_state=1)\n",
    "estado2_amostra = pd.concat([estado2_cota, estado2_sem_cota])\n",
    "estado2_amostra.shape"
   ]
  },
  {
   "cell_type": "code",
   "execution_count": 43,
   "metadata": {},
   "outputs": [
    {
     "data": {
      "text/plain": [
       "(25, 4)"
      ]
     },
     "execution_count": 43,
     "metadata": {},
     "output_type": "execute_result"
    }
   ],
   "source": [
    "# Estado 3\n",
    "estado3_cota = estado3[estado3['Age'] <= 60]\n",
    "estado3_cota = estado3_cota.sample(n=15, random_state=1)\n",
    "estado3_sem_cota = estado3[~estado3['Age'].isin(estado3_cota['Age'])]\n",
    "estado3_sem_cota = estado3_sem_cota.sample(n=10, random_state=1)\n",
    "estado3_amostra = pd.concat([estado3_cota, estado3_sem_cota])\n",
    "estado3_amostra.shape"
   ]
  },
  {
   "cell_type": "code",
   "execution_count": 45,
   "metadata": {},
   "outputs": [
    {
     "data": {
      "text/plain": [
       "(75, 4)"
      ]
     },
     "execution_count": 45,
     "metadata": {},
     "output_type": "execute_result"
    }
   ],
   "source": [
    "# Juntar as amostras em um único dataframe sem repetir as colunas\n",
    "amostra_completa2 = pd.concat([estado1_amostra, estado2_amostra, estado3_amostra])\n",
    "amostra_completa2.shape"
   ]
  }
 ],
 "metadata": {
  "kernelspec": {
   "display_name": "venv_ds",
   "language": "python",
   "name": "python3"
  },
  "language_info": {
   "codemirror_mode": {
    "name": "ipython",
    "version": 3
   },
   "file_extension": ".py",
   "mimetype": "text/x-python",
   "name": "python",
   "nbconvert_exporter": "python",
   "pygments_lexer": "ipython3",
   "version": "3.11.3"
  },
  "orig_nbformat": 4
 },
 "nbformat": 4,
 "nbformat_minor": 2
}
